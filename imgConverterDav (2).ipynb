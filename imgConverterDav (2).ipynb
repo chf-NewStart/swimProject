{
  "nbformat": 4,
  "nbformat_minor": 0,
  "metadata": {
    "colab": {
      "provenance": [],
      "toc_visible": true
    },
    "kernelspec": {
      "name": "python3",
      "display_name": "Python 3"
    },
    "language_info": {
      "name": "python"
    }
  },
  "cells": [
    {
      "cell_type": "code",
      "execution_count": 1,
      "metadata": {
        "id": "ebq5i80JEfdH"
      },
      "outputs": [],
      "source": [
        "import numpy as np\n",
        "from skimage.io import imread, imsave\n",
        "import matplotlib.pyplot as plt\n",
        "from scipy import ndimage\n"
      ]
    },
    {
      "cell_type": "code",
      "source": [
        "# load Image\n",
        "# img = imread('https://chf-newstart.github.io/files/SWIM/smile_resized.jpg')\n",
        "\n",
        "img = imread('https://houfu72.com/swim/smile_resized.jpg')\n",
        "# /Users/chf/Desktop/chf-NewStart.github.io/files/HelmetWebNov30/static/8_modified.png\n",
        "\n",
        "# plot original Image\n",
        "plt.imshow(img)\n",
        "plt.show()"
      ],
      "metadata": {
        "colab": {
          "base_uri": "https://localhost:8080/",
          "height": 430
        },
        "id": "FVrpOW3dEwJg",
        "outputId": "4c7d547c-9b51-4d36-8cd8-bc8fcc530e3f"
      },
      "execution_count": 2,
      "outputs": [
        {
          "output_type": "display_data",
          "data": {
            "text/plain": [
              "<Figure size 640x480 with 1 Axes>"
            ],
            "image/png": "[encoded data removed]"
          },
          "metadata": {}
        }
      ]
    },
    {
      "cell_type": "code",
      "source": [
        "#print(img)\n",
        "#print(len(img))\n",
        "\n",
        "\n",
        "eachLED = []\n",
        "\n",
        "for i in range(len(img)):\n",
        "  eachLED.append((img[i]).tolist())\n",
        "\n",
        "\n",
        "print((eachLED))\n",
        "print(len(eachLED))\n",
        "print(len(eachLED[0]))\n",
        "\n",
        "'''\n",
        "a = list([[[1,2],[3,4]],[[10,20],[30,40]]])\n",
        "len(a)\n",
        "\n",
        "\n",
        "\n",
        "print(b)\n",
        "\n",
        "#eachLED_darker = [x / myInt for x in myList]\n",
        "#eachLED_darker\n",
        "\n",
        "'''"
      ],
      "metadata": {
        "id": "QGq6pKjCE4Lj",
        "colab": {
          "base_uri": "https://localhost:8080/",
          "height": 127
        },
        "outputId": "82ef115e-14b7-47ff-9e3d-38e858de4b8d"
      },
      "execution_count": 3,
      "outputs": [
        {
          "output_type": "stream",
          "name": "stdout",
          "text": [
            "[[[229, 255, 236], [235, 255, 250], [229, 251, 255], [232, 249, 255], [236, 247, 253], [245, 254, 251], [255, 255, 248], [254, 254, 244], [254, 249, 245], [255, 255, 243], [252, 251, 221], [255, 255, 216], [251, 254, 207], [255, 255, 223], [251, 253, 242], [253, 253, 251], [254, 253, 248], [239, 238, 233], [251, 252, 255], [251, 255, 255], [247, 255, 255]], [[234, 255, 230], [238, 255, 243], [221, 235, 238], [248, 255, 255], [252, 255, 250], [247, 249, 227], [255, 255, 221], [235, 231, 184], [150, 144, 94], [144, 139, 81], [149, 147, 73], [149, 148, 68], [151, 152, 76], [220, 220, 158], [255, 255, 220], [250, 248, 223], [254, 252, 231], [255, 255, 243], [250, 251, 246], [243, 247, 250], [235, 242, 248]], [[254, 255, 232], [238, 243, 221], [255, 255, 248], [244, 238, 226], [255, 248, 215], [164, 154, 93], [86, 77, 0], [107, 98, 0], [201, 194, 54], [228, 221, 70], [206, 200, 40], [202, 197, 43], [215, 208, 75], [117, 110, 0], [79, 70, 0], [172, 164, 91], [254, 248, 196], [249, 246, 213], [253, 254, 238], [254, 255, 251], [251, 255, 255]], [[252, 244, 233], [255, 253, 238], [255, 252, 230], [255, 249, 210], [71, 54, 0], [163, 149, 44], [243, 228, 83], [251, 238, 63], [255, 245, 49], [242, 231, 27], [251, 240, 36], [244, 234, 38], [255, 243, 63], [247, 235, 75], [223, 207, 68], [156, 145, 30], [67, 61, 0], [228, 226, 169], [248, 245, 210], [238, 239, 223], [253, 255, 252]], [[255, 240, 255], [255, 237, 240], [183, 163, 126], [170, 152, 76], [165, 148, 34], [255, 247, 94], [247, 232, 41], [253, 238, 23], [251, 235, 17], [250, 231, 15], [253, 235, 27], [248, 232, 25], [255, 249, 39], [247, 234, 34], [253, 236, 62], [255, 242, 94], [166, 160, 40], [128, 127, 37], [189, 187, 128], [255, 255, 227], [255, 255, 246]], [[255, 239, 255], [255, 237, 230], [109, 92, 20], [226, 214, 92], [245, 235, 78], [243, 232, 46], [244, 232, 24], [253, 239, 20], [255, 241, 17], [255, 239, 15], [255, 241, 21], [247, 231, 11], [249, 236, 8], [255, 243, 25], [255, 241, 50], [231, 218, 51], [240, 234, 84], [243, 241, 120], [72, 67, 0], [231, 227, 179], [236, 231, 212]], [[255, 243, 238], [173, 165, 118], [184, 183, 56], [230, 233, 54], [234, 237, 36], [239, 236, 33], [252, 243, 52], [248, 235, 43], [247, 235, 25], [249, 240, 15], [255, 248, 10], [254, 249, 10], [233, 229, 0], [240, 235, 21], [249, 241, 54], [249, 242, 66], [235, 232, 55], [243, 240, 85], [181, 177, 69], [160, 155, 87], [255, 255, 225]], [[241, 233, 210], [114, 111, 42], [178, 186, 23], [231, 244, 30], [232, 241, 14], [252, 254, 46], [158, 146, 0], [161, 147, 0], [196, 185, 0], [240, 234, 18], [246, 244, 3], [242, 241, 3], [199, 195, 0], [153, 148, 0], [158, 153, 0], [241, 236, 56], [248, 245, 46], [232, 230, 49], [199, 192, 60], [110, 102, 17], [251, 242, 199]], [[229, 222, 196], [105, 103, 28], [221, 234, 59], [233, 248, 21], [232, 242, 6], [255, 255, 54], [88, 73, 0], [69, 48, 0], [147, 131, 0], [239, 229, 33], [245, 241, 10], [244, 240, 21], [150, 140, 0], [54, 43, 0], [102, 96, 0], [247, 243, 58], [251, 248, 33], [242, 239, 36], [226, 219, 69], [117, 109, 8], [246, 237, 180]], [[242, 232, 196], [131, 126, 42], [223, 232, 51], [234, 246, 12], [241, 249, 6], [229, 228, 16], [119, 102, 0], [110, 89, 0], [247, 227, 66], [255, 242, 47], [234, 226, 5], [242, 234, 25], [252, 237, 82], [119, 106, 0], [104, 97, 0], [243, 239, 46], [238, 235, 10], [253, 248, 34], [242, 234, 73], [131, 123, 12], [231, 222, 157]], [[233, 218, 161], [118, 109, 8], [238, 239, 50], [251, 255, 18], [240, 240, 0], [255, 255, 22], [242, 226, 27], [255, 236, 48], [253, 231, 32], [254, 234, 25], [255, 250, 36], [239, 225, 15], [253, 238, 47], [250, 236, 51], [250, 240, 47], [252, 244, 37], [247, 240, 10], [248, 242, 26], [255, 250, 84], [129, 120, 3], [247, 239, 167]], [[249, 232, 163], [135, 122, 17], [244, 239, 59], [246, 243, 24], [238, 231, 5], [255, 246, 22], [253, 237, 19], [255, 236, 19], [255, 238, 22], [255, 234, 19], [247, 225, 17], [251, 234, 24], [254, 239, 24], [249, 237, 27], [234, 220, 27], [240, 228, 30], [254, 244, 22], [238, 231, 19], [242, 233, 70], [121, 112, 0], [238, 230, 157]], [[234, 216, 142], [125, 110, 9], [249, 240, 85], [235, 226, 47], [255, 241, 64], [220, 202, 18], [236, 218, 14], [255, 237, 23], [255, 235, 19], [255, 240, 25], [254, 232, 25], [255, 240, 28], [243, 230, 1], [245, 234, 20], [255, 246, 81], [225, 207, 45], [235, 222, 20], [244, 235, 36], [239, 228, 74], [139, 129, 16], [233, 227, 153]], [[239, 224, 157], [136, 123, 31], [246, 239, 99], [247, 239, 76], [191, 178, 14], [85, 68, 0], [235, 216, 38], [255, 240, 50], [254, 235, 35], [242, 224, 16], [255, 241, 31], [253, 239, 28], [255, 251, 37], [239, 229, 35], [222, 207, 56], [62, 45, 0], [219, 205, 18], [242, 231, 45], [248, 236, 92], [118, 107, 1], [240, 233, 161]], [[248, 237, 191], [44, 37, 0], [194, 195, 59], [232, 234, 62], [228, 227, 41], [225, 218, 42], [120, 104, 0], [105, 87, 0], [255, 239, 68], [243, 231, 35], [240, 234, 18], [242, 238, 29], [251, 243, 70], [109, 100, 0], [114, 107, 0], [207, 199, 39], [227, 215, 35], [235, 222, 48], [214, 202, 66], [101, 92, 0], [234, 227, 159]], [[255, 250, 223], [201, 196, 140], [155, 156, 39], [237, 242, 80], [243, 248, 57], [241, 240, 52], [108, 97, 0], [119, 104, 0], [215, 201, 43], [214, 203, 27], [217, 211, 15], [218, 213, 25], [206, 197, 42], [105, 97, 0], [109, 106, 0], [244, 241, 74], [241, 231, 71], [248, 237, 95], [169, 159, 46], [168, 160, 75], [255, 251, 193]], [[255, 252, 246], [255, 253, 222], [101, 96, 15], [181, 183, 50], [229, 235, 51], [231, 235, 27], [253, 252, 50], [233, 225, 38], [141, 128, 0], [122, 107, 0], [117, 101, 0], [104, 89, 0], [137, 125, 0], [231, 223, 50], [249, 244, 54], [232, 231, 55], [234, 230, 105], [237, 234, 141], [82, 80, 3], [249, 247, 186], [240, 237, 192]], [[255, 246, 250], [245, 237, 224], [245, 238, 194], [54, 50, 0], [235, 237, 94], [250, 253, 76], [234, 235, 43], [232, 228, 43], [238, 227, 73], [219, 203, 66], [233, 215, 87], [247, 231, 94], [242, 229, 71], [230, 222, 49], [243, 236, 57], [246, 243, 88], [207, 207, 111], [77, 77, 15], [219, 219, 165], [248, 247, 203], [255, 255, 225]], [[241, 237, 236], [255, 255, 250], [255, 254, 244], [238, 231, 202], [73, 68, 4], [134, 129, 35], [225, 220, 100], [251, 244, 111], [234, 226, 93], [244, 234, 100], [242, 233, 94], [229, 221, 76], [243, 236, 86], [251, 245, 99], [227, 218, 89], [136, 129, 23], [76, 74, 0], [255, 255, 208], [255, 255, 216], [252, 249, 214], [231, 227, 202]], [[254, 255, 250], [245, 247, 244], [241, 238, 245], [255, 253, 255], [227, 220, 202], [138, 131, 89], [144, 136, 64], [124, 117, 26], [148, 141, 37], [136, 129, 13], [147, 141, 17], [163, 158, 30], [139, 133, 11], [136, 129, 23], [148, 136, 60], [166, 157, 98], [234, 231, 180], [243, 241, 200], [255, 254, 221], [255, 255, 230], [255, 255, 239]], [[247, 255, 239], [242, 252, 241], [242, 245, 250], [253, 252, 255], [255, 254, 251], [255, 254, 234], [233, 226, 182], [204, 198, 138], [46, 39, 0], [44, 37, 0], [39, 33, 0], [36, 32, 0], [54, 48, 0], [202, 195, 140], [230, 218, 194], [252, 240, 226], [251, 245, 219], [255, 255, 228], [245, 240, 218], [255, 255, 241], [255, 254, 248]]]\n",
            "21\n",
            "21\n"
          ]
        },
        {
          "output_type": "execute_result",
          "data": {
            "text/plain": [
              "'\\na = list([[[1,2],[3,4]],[[10,20],[30,40]]])\\nlen(a)\\n\\n\\n\\nprint(b)\\n\\n#eachLED_darker = [x / myInt for x in myList]\\n#eachLED_darker\\n\\n'"
            ],
            "application/vnd.google.colaboratory.intrinsic+json": {
              "type": "string"
            }
          },
          "metadata": {},
          "execution_count": 3
        }
      ]
    },
    {
      "cell_type": "code",
      "source": [
        "\n",
        "def getDim(list_in):\n",
        "\n",
        "  dim = []\n",
        "  identifier = list_in\n",
        "\n",
        "  while type(identifier) != int and type(identifier) != float:\n",
        "    dim.append(len(identifier))\n",
        "    identifier = identifier[0]\n",
        "\n",
        "  return dim\n"
      ],
      "metadata": {
        "id": "ukjt9saeE6eQ"
      },
      "execution_count": 4,
      "outputs": []
    },
    {
      "cell_type": "code",
      "source": [
        "imgListSize = getDim(eachLED)"
      ],
      "metadata": {
        "id": "W8-SXC-2E-yW"
      },
      "execution_count": 5,
      "outputs": []
    },
    {
      "cell_type": "code",
      "source": [
        "imgListSize"
      ],
      "metadata": {
        "id": "B-6RSzvdFAEP",
        "colab": {
          "base_uri": "https://localhost:8080/"
        },
        "outputId": "d1348992-39f2-45ce-f6e8-6a349b515f0f"
      },
      "execution_count": 6,
      "outputs": [
        {
          "output_type": "execute_result",
          "data": {
            "text/plain": [
              "[21, 21, 3]"
            ]
          },
          "metadata": {},
          "execution_count": 6
        }
      ]
    },
    {
      "cell_type": "code",
      "source": [
        "\n",
        "if imgListSize[-1] == 3:\n",
        "\n",
        "  print(type(eachLED))\n",
        "  outer = []\n",
        "  inner = []\n",
        "  newLED = eachLED.copy()\n",
        "  print(type(newLED))\n",
        "\n",
        "\n",
        "elif imgListSize[-1] == 4:\n",
        "  for i in range(0,imgListSize[0]):\n",
        "    for j in range(0,imgListSize[1]):\n",
        "      newLED[i][j] = np.delete(eachLED[i][j],-1,0)\n"
      ],
      "metadata": {
        "id": "auCfLsbmgOAn",
        "colab": {
          "base_uri": "https://localhost:8080/"
        },
        "outputId": "a31961ea-ecd3-48fa-8172-7a0cf951f807"
      },
      "execution_count": 7,
      "outputs": [
        {
          "output_type": "stream",
          "name": "stdout",
          "text": [
            "<class 'list'>\n",
            "<class 'list'>\n"
          ]
        }
      ]
    },
    {
      "cell_type": "code",
      "source": [
        "newLED"
      ],
      "metadata": {
        "id": "jLeL80BTTrIi",
        "colab": {
          "base_uri": "https://localhost:8080/"
        },
        "outputId": "29df955c-ab68-421f-cb78-56c21c1eff7f"
      },
      "execution_count": 8,
      "outputs": [
        {
          "output_type": "execute_result",
          "data": {
            "text/plain": [
              "[[[229, 255, 236],\n",
              "  [235, 255, 250],\n",
              "  [229, 251, 255],\n",
              "  [232, 249, 255],\n",
              "  [236, 247, 253],\n",
              "  [245, 254, 251],\n",
              "  [255, 255, 248],\n",
              "  [254, 254, 244],\n",
              "  [254, 249, 245],\n",
              "  [255, 255, 243],\n",
              "  [252, 251, 221],\n",
              "  [255, 255, 216],\n",
              "  [251, 254, 207],\n",
              "  [255, 255, 223],\n",
              "  [251, 253, 242],\n",
              "  [253, 253, 251],\n",
              "  [254, 253, 248],\n",
              "  [239, 238, 233],\n",
              "  [251, 252, 255],\n",
              "  [251, 255, 255],\n",
              "  [247, 255, 255]],\n",
              " [[234, 255, 230],\n",
              "  [238, 255, 243],\n",
              "  [221, 235, 238],\n",
              "  [248, 255, 255],\n",
              "  [252, 255, 250],\n",
              "  [247, 249, 227],\n",
              "  [255, 255, 221],\n",
              "  [235, 231, 184],\n",
              "  [150, 144, 94],\n",
              "  [144, 139, 81],\n",
              "  [149, 147, 73],\n",
              "  [149, 148, 68],\n",
              "  [151, 152, 76],\n",
              "  [220, 220, 158],\n",
              "  [255, 255, 220],\n",
              "  [250, 248, 223],\n",
              "  [254, 252, 231],\n",
              "  [255, 255, 243],\n",
              "  [250, 251, 246],\n",
              "  [243, 247, 250],\n",
              "  [235, 242, 248]],\n",
              " [[254, 255, 232],\n",
              "  [238, 243, 221],\n",
              "  [255, 255, 248],\n",
              "  [244, 238, 226],\n",
              "  [255, 248, 215],\n",
              "  [164, 154, 93],\n",
              "  [86, 77, 0],\n",
              "  [107, 98, 0],\n",
              "  [201, 194, 54],\n",
              "  [228, 221, 70],\n",
              "  [206, 200, 40],\n",
              "  [202, 197, 43],\n",
              "  [215, 208, 75],\n",
              "  [117, 110, 0],\n",
              "  [79, 70, 0],\n",
              "  [172, 164, 91],\n",
              "  [254, 248, 196],\n",
              "  [249, 246, 213],\n",
              "  [253, 254, 238],\n",
              "  [254, 255, 251],\n",
              "  [251, 255, 255]],\n",
              " [[252, 244, 233],\n",
              "  [255, 253, 238],\n",
              "  [255, 252, 230],\n",
              "  [255, 249, 210],\n",
              "  [71, 54, 0],\n",
              "  [163, 149, 44],\n",
              "  [243, 228, 83],\n",
              "  [251, 238, 63],\n",
              "  [255, 245, 49],\n",
              "  [242, 231, 27],\n",
              "  [251, 240, 36],\n",
              "  [244, 234, 38],\n",
              "  [255, 243, 63],\n",
              "  [247, 235, 75],\n",
              "  [223, 207, 68],\n",
              "  [156, 145, 30],\n",
              "  [67, 61, 0],\n",
              "  [228, 226, 169],\n",
              "  [248, 245, 210],\n",
              "  [238, 239, 223],\n",
              "  [253, 255, 252]],\n",
              " [[255, 240, 255],\n",
              "  [255, 237, 240],\n",
              "  [183, 163, 126],\n",
              "  [170, 152, 76],\n",
              "  [165, 148, 34],\n",
              "  [255, 247, 94],\n",
              "  [247, 232, 41],\n",
              "  [253, 238, 23],\n",
              "  [251, 235, 17],\n",
              "  [250, 231, 15],\n",
              "  [253, 235, 27],\n",
              "  [248, 232, 25],\n",
              "  [255, 249, 39],\n",
              "  [247, 234, 34],\n",
              "  [253, 236, 62],\n",
              "  [255, 242, 94],\n",
              "  [166, 160, 40],\n",
              "  [128, 127, 37],\n",
              "  [189, 187, 128],\n",
              "  [255, 255, 227],\n",
              "  [255, 255, 246]],\n",
              " [[255, 239, 255],\n",
              "  [255, 237, 230],\n",
              "  [109, 92, 20],\n",
              "  [226, 214, 92],\n",
              "  [245, 235, 78],\n",
              "  [243, 232, 46],\n",
              "  [244, 232, 24],\n",
              "  [253, 239, 20],\n",
              "  [255, 241, 17],\n",
              "  [255, 239, 15],\n",
              "  [255, 241, 21],\n",
              "  [247, 231, 11],\n",
              "  [249, 236, 8],\n",
              "  [255, 243, 25],\n",
              "  [255, 241, 50],\n",
              "  [231, 218, 51],\n",
              "  [240, 234, 84],\n",
              "  [243, 241, 120],\n",
              "  [72, 67, 0],\n",
              "  [231, 227, 179],\n",
              "  [236, 231, 212]],\n",
              " [[255, 243, 238],\n",
              "  [173, 165, 118],\n",
              "  [184, 183, 56],\n",
              "  [230, 233, 54],\n",
              "  [234, 237, 36],\n",
              "  [239, 236, 33],\n",
              "  [252, 243, 52],\n",
              "  [248, 235, 43],\n",
              "  [247, 235, 25],\n",
              "  [249, 240, 15],\n",
              "  [255, 248, 10],\n",
              "  [254, 249, 10],\n",
              "  [233, 229, 0],\n",
              "  [240, 235, 21],\n",
              "  [249, 241, 54],\n",
              "  [249, 242, 66],\n",
              "  [235, 232, 55],\n",
              "  [243, 240, 85],\n",
              "  [181, 177, 69],\n",
              "  [160, 155, 87],\n",
              "  [255, 255, 225]],\n",
              " [[241, 233, 210],\n",
              "  [114, 111, 42],\n",
              "  [178, 186, 23],\n",
              "  [231, 244, 30],\n",
              "  [232, 241, 14],\n",
              "  [252, 254, 46],\n",
              "  [158, 146, 0],\n",
              "  [161, 147, 0],\n",
              "  [196, 185, 0],\n",
              "  [240, 234, 18],\n",
              "  [246, 244, 3],\n",
              "  [242, 241, 3],\n",
              "  [199, 195, 0],\n",
              "  [153, 148, 0],\n",
              "  [158, 153, 0],\n",
              "  [241, 236, 56],\n",
              "  [248, 245, 46],\n",
              "  [232, 230, 49],\n",
              "  [199, 192, 60],\n",
              "  [110, 102, 17],\n",
              "  [251, 242, 199]],\n",
              " [[229, 222, 196],\n",
              "  [105, 103, 28],\n",
              "  [221, 234, 59],\n",
              "  [233, 248, 21],\n",
              "  [232, 242, 6],\n",
              "  [255, 255, 54],\n",
              "  [88, 73, 0],\n",
              "  [69, 48, 0],\n",
              "  [147, 131, 0],\n",
              "  [239, 229, 33],\n",
              "  [245, 241, 10],\n",
              "  [244, 240, 21],\n",
              "  [150, 140, 0],\n",
              "  [54, 43, 0],\n",
              "  [102, 96, 0],\n",
              "  [247, 243, 58],\n",
              "  [251, 248, 33],\n",
              "  [242, 239, 36],\n",
              "  [226, 219, 69],\n",
              "  [117, 109, 8],\n",
              "  [246, 237, 180]],\n",
              " [[242, 232, 196],\n",
              "  [131, 126, 42],\n",
              "  [223, 232, 51],\n",
              "  [234, 246, 12],\n",
              "  [241, 249, 6],\n",
              "  [229, 228, 16],\n",
              "  [119, 102, 0],\n",
              "  [110, 89, 0],\n",
              "  [247, 227, 66],\n",
              "  [255, 242, 47],\n",
              "  [234, 226, 5],\n",
              "  [242, 234, 25],\n",
              "  [252, 237, 82],\n",
              "  [119, 106, 0],\n",
              "  [104, 97, 0],\n",
              "  [243, 239, 46],\n",
              "  [238, 235, 10],\n",
              "  [253, 248, 34],\n",
              "  [242, 234, 73],\n",
              "  [131, 123, 12],\n",
              "  [231, 222, 157]],\n",
              " [[233, 218, 161],\n",
              "  [118, 109, 8],\n",
              "  [238, 239, 50],\n",
              "  [251, 255, 18],\n",
              "  [240, 240, 0],\n",
              "  [255, 255, 22],\n",
              "  [242, 226, 27],\n",
              "  [255, 236, 48],\n",
              "  [253, 231, 32],\n",
              "  [254, 234, 25],\n",
              "  [255, 250, 36],\n",
              "  [239, 225, 15],\n",
              "  [253, 238, 47],\n",
              "  [250, 236, 51],\n",
              "  [250, 240, 47],\n",
              "  [252, 244, 37],\n",
              "  [247, 240, 10],\n",
              "  [248, 242, 26],\n",
              "  [255, 250, 84],\n",
              "  [129, 120, 3],\n",
              "  [247, 239, 167]],\n",
              " [[249, 232, 163],\n",
              "  [135, 122, 17],\n",
              "  [244, 239, 59],\n",
              "  [246, 243, 24],\n",
              "  [238, 231, 5],\n",
              "  [255, 246, 22],\n",
              "  [253, 237, 19],\n",
              "  [255, 236, 19],\n",
              "  [255, 238, 22],\n",
              "  [255, 234, 19],\n",
              "  [247, 225, 17],\n",
              "  [251, 234, 24],\n",
              "  [254, 239, 24],\n",
              "  [249, 237, 27],\n",
              "  [234, 220, 27],\n",
              "  [240, 228, 30],\n",
              "  [254, 244, 22],\n",
              "  [238, 231, 19],\n",
              "  [242, 233, 70],\n",
              "  [121, 112, 0],\n",
              "  [238, 230, 157]],\n",
              " [[234, 216, 142],\n",
              "  [125, 110, 9],\n",
              "  [249, 240, 85],\n",
              "  [235, 226, 47],\n",
              "  [255, 241, 64],\n",
              "  [220, 202, 18],\n",
              "  [236, 218, 14],\n",
              "  [255, 237, 23],\n",
              "  [255, 235, 19],\n",
              "  [255, 240, 25],\n",
              "  [254, 232, 25],\n",
              "  [255, 240, 28],\n",
              "  [243, 230, 1],\n",
              "  [245, 234, 20],\n",
              "  [255, 246, 81],\n",
              "  [225, 207, 45],\n",
              "  [235, 222, 20],\n",
              "  [244, 235, 36],\n",
              "  [239, 228, 74],\n",
              "  [139, 129, 16],\n",
              "  [233, 227, 153]],\n",
              " [[239, 224, 157],\n",
              "  [136, 123, 31],\n",
              "  [246, 239, 99],\n",
              "  [247, 239, 76],\n",
              "  [191, 178, 14],\n",
              "  [85, 68, 0],\n",
              "  [235, 216, 38],\n",
              "  [255, 240, 50],\n",
              "  [254, 235, 35],\n",
              "  [242, 224, 16],\n",
              "  [255, 241, 31],\n",
              "  [253, 239, 28],\n",
              "  [255, 251, 37],\n",
              "  [239, 229, 35],\n",
              "  [222, 207, 56],\n",
              "  [62, 45, 0],\n",
              "  [219, 205, 18],\n",
              "  [242, 231, 45],\n",
              "  [248, 236, 92],\n",
              "  [118, 107, 1],\n",
              "  [240, 233, 161]],\n",
              " [[248, 237, 191],\n",
              "  [44, 37, 0],\n",
              "  [194, 195, 59],\n",
              "  [232, 234, 62],\n",
              "  [228, 227, 41],\n",
              "  [225, 218, 42],\n",
              "  [120, 104, 0],\n",
              "  [105, 87, 0],\n",
              "  [255, 239, 68],\n",
              "  [243, 231, 35],\n",
              "  [240, 234, 18],\n",
              "  [242, 238, 29],\n",
              "  [251, 243, 70],\n",
              "  [109, 100, 0],\n",
              "  [114, 107, 0],\n",
              "  [207, 199, 39],\n",
              "  [227, 215, 35],\n",
              "  [235, 222, 48],\n",
              "  [214, 202, 66],\n",
              "  [101, 92, 0],\n",
              "  [234, 227, 159]],\n",
              " [[255, 250, 223],\n",
              "  [201, 196, 140],\n",
              "  [155, 156, 39],\n",
              "  [237, 242, 80],\n",
              "  [243, 248, 57],\n",
              "  [241, 240, 52],\n",
              "  [108, 97, 0],\n",
              "  [119, 104, 0],\n",
              "  [215, 201, 43],\n",
              "  [214, 203, 27],\n",
              "  [217, 211, 15],\n",
              "  [218, 213, 25],\n",
              "  [206, 197, 42],\n",
              "  [105, 97, 0],\n",
              "  [109, 106, 0],\n",
              "  [244, 241, 74],\n",
              "  [241, 231, 71],\n",
              "  [248, 237, 95],\n",
              "  [169, 159, 46],\n",
              "  [168, 160, 75],\n",
              "  [255, 251, 193]],\n",
              " [[255, 252, 246],\n",
              "  [255, 253, 222],\n",
              "  [101, 96, 15],\n",
              "  [181, 183, 50],\n",
              "  [229, 235, 51],\n",
              "  [231, 235, 27],\n",
              "  [253, 252, 50],\n",
              "  [233, 225, 38],\n",
              "  [141, 128, 0],\n",
              "  [122, 107, 0],\n",
              "  [117, 101, 0],\n",
              "  [104, 89, 0],\n",
              "  [137, 125, 0],\n",
              "  [231, 223, 50],\n",
              "  [249, 244, 54],\n",
              "  [232, 231, 55],\n",
              "  [234, 230, 105],\n",
              "  [237, 234, 141],\n",
              "  [82, 80, 3],\n",
              "  [249, 247, 186],\n",
              "  [240, 237, 192]],\n",
              " [[255, 246, 250],\n",
              "  [245, 237, 224],\n",
              "  [245, 238, 194],\n",
              "  [54, 50, 0],\n",
              "  [235, 237, 94],\n",
              "  [250, 253, 76],\n",
              "  [234, 235, 43],\n",
              "  [232, 228, 43],\n",
              "  [238, 227, 73],\n",
              "  [219, 203, 66],\n",
              "  [233, 215, 87],\n",
              "  [247, 231, 94],\n",
              "  [242, 229, 71],\n",
              "  [230, 222, 49],\n",
              "  [243, 236, 57],\n",
              "  [246, 243, 88],\n",
              "  [207, 207, 111],\n",
              "  [77, 77, 15],\n",
              "  [219, 219, 165],\n",
              "  [248, 247, 203],\n",
              "  [255, 255, 225]],\n",
              " [[241, 237, 236],\n",
              "  [255, 255, 250],\n",
              "  [255, 254, 244],\n",
              "  [238, 231, 202],\n",
              "  [73, 68, 4],\n",
              "  [134, 129, 35],\n",
              "  [225, 220, 100],\n",
              "  [251, 244, 111],\n",
              "  [234, 226, 93],\n",
              "  [244, 234, 100],\n",
              "  [242, 233, 94],\n",
              "  [229, 221, 76],\n",
              "  [243, 236, 86],\n",
              "  [251, 245, 99],\n",
              "  [227, 218, 89],\n",
              "  [136, 129, 23],\n",
              "  [76, 74, 0],\n",
              "  [255, 255, 208],\n",
              "  [255, 255, 216],\n",
              "  [252, 249, 214],\n",
              "  [231, 227, 202]],\n",
              " [[254, 255, 250],\n",
              "  [245, 247, 244],\n",
              "  [241, 238, 245],\n",
              "  [255, 253, 255],\n",
              "  [227, 220, 202],\n",
              "  [138, 131, 89],\n",
              "  [144, 136, 64],\n",
              "  [124, 117, 26],\n",
              "  [148, 141, 37],\n",
              "  [136, 129, 13],\n",
              "  [147, 141, 17],\n",
              "  [163, 158, 30],\n",
              "  [139, 133, 11],\n",
              "  [136, 129, 23],\n",
              "  [148, 136, 60],\n",
              "  [166, 157, 98],\n",
              "  [234, 231, 180],\n",
              "  [243, 241, 200],\n",
              "  [255, 254, 221],\n",
              "  [255, 255, 230],\n",
              "  [255, 255, 239]],\n",
              " [[247, 255, 239],\n",
              "  [242, 252, 241],\n",
              "  [242, 245, 250],\n",
              "  [253, 252, 255],\n",
              "  [255, 254, 251],\n",
              "  [255, 254, 234],\n",
              "  [233, 226, 182],\n",
              "  [204, 198, 138],\n",
              "  [46, 39, 0],\n",
              "  [44, 37, 0],\n",
              "  [39, 33, 0],\n",
              "  [36, 32, 0],\n",
              "  [54, 48, 0],\n",
              "  [202, 195, 140],\n",
              "  [230, 218, 194],\n",
              "  [252, 240, 226],\n",
              "  [251, 245, 219],\n",
              "  [255, 255, 228],\n",
              "  [245, 240, 218],\n",
              "  [255, 255, 241],\n",
              "  [255, 254, 248]]]"
            ]
          },
          "metadata": {},
          "execution_count": 8
        }
      ]
    },
    {
      "cell_type": "code",
      "source": [
        "eachLEDstr = str((newLED))"
      ],
      "metadata": {
        "id": "-iBssc98HOMr"
      },
      "execution_count": 9,
      "outputs": []
    },
    {
      "cell_type": "code",
      "source": [
        "eachLEDstr = eachLEDstr.replace('[','{')\n",
        "eachLEDstr = eachLEDstr.replace(']','}')\n",
        "\n"
      ],
      "metadata": {
        "id": "BhNy66PlFWtQ"
      },
      "execution_count": 10,
      "outputs": []
    },
    {
      "cell_type": "code",
      "source": [
        "eachLEDstr"
      ],
      "metadata": {
        "id": "Vl5CKk2KJrJB",
        "colab": {
          "base_uri": "https://localhost:8080/",
          "height": 161
        },
        "outputId": "c1b40887-f365-49c9-b73e-a1a63fc529ce"
      },
      "execution_count": 11,
      "outputs": [
        {
          "output_type": "execute_result",
          "data": {
            "text/plain": [
              "'{{{229, 255, 236}, {235, 255, 250}, {229, 251, 255}, {232, 249, 255}, {236, 247, 253}, {245, 254, 251}, {255, 255, 248}, {254, 254, 244}, {254, 249, 245}, {255, 255, 243}, {252, 251, 221}, {255, 255, 216}, {251, 254, 207}, {255, 255, 223}, {251, 253, 242}, {253, 253, 251}, {254, 253, 248}, {239, 238, 233}, {251, 252, 255}, {251, 255, 255}, {247, 255, 255}}, {{234, 255, 230}, {238, 255, 243}, {221, 235, 238}, {248, 255, 255}, {252, 255, 250}, {247, 249, 227}, {255, 255, 221}, {235, 231, 184}, {150, 144, 94}, {144, 139, 81}, {149, 147, 73}, {149, 148, 68}, {151, 152, 76}, {220, 220, 158}, {255, 255, 220}, {250, 248, 223}, {254, 252, 231}, {255, 255, 243}, {250, 251, 246}, {243, 247, 250}, {235, 242, 248}}, {{254, 255, 232}, {238, 243, 221}, {255, 255, 248}, {244, 238, 226}, {255, 248, 215}, {164, 154, 93}, {86, 77, 0}, {107, 98, 0}, {201, 194, 54}, {228, 221, 70}, {206, 200, 40}, {202, 197, 43}, {215, 208, 75}, {117, 110, 0}, {79, 70, 0}, {172, 164, 91}, {254, 248, 196}, {249, 246, 213}, {253, 254, 238}, {254, 255, 251}, {251, 255, 255}}, {{252, 244, 233}, {255, 253, 238}, {255, 252, 230}, {255, 249, 210}, {71, 54, 0}, {163, 149, 44}, {243, 228, 83}, {251, 238, 63}, {255, 245, 49}, {242, 231, 27}, {251, 240, 36}, {244, 234, 38}, {255, 243, 63}, {247, 235, 75}, {223, 207, 68}, {156, 145, 30}, {67, 61, 0}, {228, 226, 169}, {248, 245, 210}, {238, 239, 223}, {253, 255, 252}}, {{255, 240, 255}, {255, 237, 240}, {183, 163, 126}, {170, 152, 76}, {165, 148, 34}, {255, 247, 94}, {247, 232, 41}, {253, 238, 23}, {251, 235, 17}, {250, 231, 15}, {253, 235, 27}, {248, 232, 25}, {255, 249, 39}, {247, 234, 34}, {253, 236, 62}, {255, 242, 94}, {166, 160, 40}, {128, 127, 37}, {189, 187, 128}, {255, 255, 227}, {255, 255, 246}}, {{255, 239, 255}, {255, 237, 230}, {109, 92, 20}, {226, 214, 92}, {245, 235, 78}, {243, 232, 46}, {244, 232, 24}, {253, 239, 20}, {255, 241, 17}, {255, 239, 15}, {255, 241, 21}, {247, 231, 11}, {249, 236, 8}, {255, 243, 25}, {255, 241, 50}, {231, 218, 51}, {240, 234, 84}, {243, 241, 120}, {72, 67, 0}, {231, 227, 179}, {236, 231, 212}}, {{255, 243, 238}, {173, 165, 118}, {184, 183, 56}, {230, 233, 54}, {234, 237, 36}, {239, 236, 33}, {252, 243, 52}, {248, 235, 43}, {247, 235, 25}, {249, 240, 15}, {255, 248, 10}, {254, 249, 10}, {233, 229, 0}, {240, 235, 21}, {249, 241, 54}, {249, 242, 66}, {235, 232, 55}, {243, 240, 85}, {181, 177, 69}, {160, 155, 87}, {255, 255, 225}}, {{241, 233, 210}, {114, 111, 42}, {178, 186, 23}, {231, 244, 30}, {232, 241, 14}, {252, 254, 46}, {158, 146, 0}, {161, 147, 0}, {196, 185, 0}, {240, 234, 18}, {246, 244, 3}, {242, 241, 3}, {199, 195, 0}, {153, 148, 0}, {158, 153, 0}, {241, 236, 56}, {248, 245, 46}, {232, 230, 49}, {199, 192, 60}, {110, 102, 17}, {251, 242, 199}}, {{229, 222, 196}, {105, 103, 28}, {221, 234, 59}, {233, 248, 21}, {232, 242, 6}, {255, 255, 54}, {88, 73, 0}, {69, 48, 0}, {147, 131, 0}, {239, 229, 33}, {245, 241, 10}, {244, 240, 21}, {150, 140, 0}, {54, 43, 0}, {102, 96, 0}, {247, 243, 58}, {251, 248, 33}, {242, 239, 36}, {226, 219, 69}, {117, 109, 8}, {246, 237, 180}}, {{242, 232, 196}, {131, 126, 42}, {223, 232, 51}, {234, 246, 12}, {241, 249, 6}, {229, 228, 16}, {119, 102, 0}, {110, 89, 0}, {247, 227, 66}, {255, 242, 47}, {234, 226, 5}, {242, 234, 25}, {252, 237, 82}, {119, 106, 0}, {104, 97, 0}, {243, 239, 46}, {238, 235, 10}, {253, 248, 34}, {242, 234, 73}, {131, 123, 12}, {231, 222, 157}}, {{233, 218, 161}, {118, 109, 8}, {238, 239, 50}, {251, 255, 18}, {240, 240, 0}, {255, 255, 22}, {242, 226, 27}, {255, 236, 48}, {253, 231, 32}, {254, 234, 25}, {255, 250, 36}, {239, 225, 15}, {253, 238, 47}, {250, 236, 51}, {250, 240, 47}, {252, 244, 37}, {247, 240, 10}, {248, 242, 26}, {255, 250, 84}, {129, 120, 3}, {247, 239, 167}}, {{249, 232, 163}, {135, 122, 17}, {244, 239, 59}, {246, 243, 24}, {238, 231, 5}, {255, 246, 22}, {253, 237, 19}, {255, 236, 19}, {255, 238, 22}, {255, 234, 19}, {247, 225, 17}, {251, 234, 24}, {254, 239, 24}, {249, 237, 27}, {234, 220, 27}, {240, 228, 30}, {254, 244, 22}, {238, 231, 19}, {242, 233, 70}, {121, 112, 0}, {238, 230, 157}}, {{234, 216, 142}, {125, 110, 9}, {249, 240, 85}, {235, 226, 47}, {255, 241, 64}, {220, 202, 18}, {236, 218, 14}, {255, 237, 23}, {255, 235, 19}, {255, 240, 25}, {254, 232, 25}, {255, 240, 28}, {243, 230, 1}, {245, 234, 20}, {255, 246, 81}, {225, 207, 45}, {235, 222, 20}, {244, 235, 36}, {239, 228, 74}, {139, 129, 16}, {233, 227, 153}}, {{239, 224, 157}, {136, 123, 31}, {246, 239, 99}, {247, 239, 76}, {191, 178, 14}, {85, 68, 0}, {235, 216, 38}, {255, 240, 50}, {254, 235, 35}, {242, 224, 16}, {255, 241, 31}, {253, 239, 28}, {255, 251, 37}, {239, 229, 35}, {222, 207, 56}, {62, 45, 0}, {219, 205, 18}, {242, 231, 45}, {248, 236, 92}, {118, 107, 1}, {240, 233, 161}}, {{248, 237, 191}, {44, 37, 0}, {194, 195, 59}, {232, 234, 62}, {228, 227, 41}, {225, 218, 42}, {120, 104, 0}, {105, 87, 0}, {255, 239, 68}, {243, 231, 35}, {240, 234, 18}, {242, 238, 29}, {251, 243, 70}, {109, 100, 0}, {114, 107, 0}, {207, 199, 39}, {227, 215, 35}, {235, 222, 48}, {214, 202, 66}, {101, 92, 0}, {234, 227, 159}}, {{255, 250, 223}, {201, 196, 140}, {155, 156, 39}, {237, 242, 80}, {243, 248, 57}, {241, 240, 52}, {108, 97, 0}, {119, 104, 0}, {215, 201, 43}, {214, 203, 27}, {217, 211, 15}, {218, 213, 25}, {206, 197, 42}, {105, 97, 0}, {109, 106, 0}, {244, 241, 74}, {241, 231, 71}, {248, 237, 95}, {169, 159, 46}, {168, 160, 75}, {255, 251, 193}}, {{255, 252, 246}, {255, 253, 222}, {101, 96, 15}, {181, 183, 50}, {229, 235, 51}, {231, 235, 27}, {253, 252, 50}, {233, 225, 38}, {141, 128, 0}, {122, 107, 0}, {117, 101, 0}, {104, 89, 0}, {137, 125, 0}, {231, 223, 50}, {249, 244, 54}, {232, 231, 55}, {234, 230, 105}, {237, 234, 141}, {82, 80, 3}, {249, 247, 186}, {240, 237, 192}}, {{255, 246, 250}, {245, 237, 224}, {245, 238, 194}, {54, 50, 0}, {235, 237, 94}, {250, 253, 76}, {234, 235, 43}, {232, 228, 43}, {238, 227, 73}, {219, 203, 66}, {233, 215, 87}, {247, 231, 94}, {242, 229, 71}, {230, 222, 49}, {243, 236, 57}, {246, 243, 88}, {207, 207, 111}, {77, 77, 15}, {219, 219, 165}, {248, 247, 203}, {255, 255, 225}}, {{241, 237, 236}, {255, 255, 250}, {255, 254, 244}, {238, 231, 202}, {73, 68, 4}, {134, 129, 35}, {225, 220, 100}, {251, 244, 111}, {234, 226, 93}, {244, 234, 100}, {242, 233, 94}, {229, 221, 76}, {243, 236, 86}, {251, 245, 99}, {227, 218, 89}, {136, 129, 23}, {76, 74, 0}, {255, 255, 208}, {255, 255, 216}, {252, 249, 214}, {231, 227, 202}}, {{254, 255, 250}, {245, 247, 244}, {241, 238, 245}, {255, 253, 255}, {227, 220, 202}, {138, 131, 89}, {144, 136, 64}, {124, 117, 26}, {148, 141, 37}, {136, 129, 13}, {147, 141, 17}, {163, 158, 30}, {139, 133, 11}, {136, 129, 23}, {148, 136, 60}, {166, 157, 98}, {234, 231, 180}, {243, 241, 200}, {255, 254, 221}, {255, 255, 230}, {255, 255, 239}}, {{247, 255, 239}, {242, 252, 241}, {242, 245, 250}, {253, 252, 255}, {255, 254, 251}, {255, 254, 234}, {233, 226, 182}, {204, 198, 138}, {46, 39, 0}, {44, 37, 0}, {39, 33, 0}, {36, 32, 0}, {54, 48, 0}, {202, 195, 140}, {230, 218, 194}, {252, 240, 226}, {251, 245, 219}, {255, 255, 228}, {245, 240, 218}, {255, 255, 241}, {255, 254, 248}}}'"
            ],
            "application/vnd.google.colaboratory.intrinsic+json": {
              "type": "string"
            }
          },
          "metadata": {},
          "execution_count": 11
        }
      ]
    },
    {
      "cell_type": "code",
      "source": [
        "eachLEDstr = eachLEDstr.replace(\"array\",\"\")\n",
        "eachLEDstr = eachLEDstr.replace(\"(\",\"\")\n",
        "eachLEDstr = eachLEDstr.replace(\")\",\"\")\n"
      ],
      "metadata": {
        "id": "9l35qZQ1XGYt"
      },
      "execution_count": 12,
      "outputs": []
    },
    {
      "cell_type": "code",
      "source": [
        "eachLEDstr"
      ],
      "metadata": {
        "id": "4_6QbK4wXatM",
        "colab": {
          "base_uri": "https://localhost:8080/",
          "height": 161
        },
        "outputId": "a92e89e7-10b6-4fdf-ebb7-c0c7778913c3"
      },
      "execution_count": 13,
      "outputs": [
        {
          "output_type": "execute_result",
          "data": {
            "text/plain": [
              "'{{{229, 255, 236}, {235, 255, 250}, {229, 251, 255}, {232, 249, 255}, {236, 247, 253}, {245, 254, 251}, {255, 255, 248}, {254, 254, 244}, {254, 249, 245}, {255, 255, 243}, {252, 251, 221}, {255, 255, 216}, {251, 254, 207}, {255, 255, 223}, {251, 253, 242}, {253, 253, 251}, {254, 253, 248}, {239, 238, 233}, {251, 252, 255}, {251, 255, 255}, {247, 255, 255}}, {{234, 255, 230}, {238, 255, 243}, {221, 235, 238}, {248, 255, 255}, {252, 255, 250}, {247, 249, 227}, {255, 255, 221}, {235, 231, 184}, {150, 144, 94}, {144, 139, 81}, {149, 147, 73}, {149, 148, 68}, {151, 152, 76}, {220, 220, 158}, {255, 255, 220}, {250, 248, 223}, {254, 252, 231}, {255, 255, 243}, {250, 251, 246}, {243, 247, 250}, {235, 242, 248}}, {{254, 255, 232}, {238, 243, 221}, {255, 255, 248}, {244, 238, 226}, {255, 248, 215}, {164, 154, 93}, {86, 77, 0}, {107, 98, 0}, {201, 194, 54}, {228, 221, 70}, {206, 200, 40}, {202, 197, 43}, {215, 208, 75}, {117, 110, 0}, {79, 70, 0}, {172, 164, 91}, {254, 248, 196}, {249, 246, 213}, {253, 254, 238}, {254, 255, 251}, {251, 255, 255}}, {{252, 244, 233}, {255, 253, 238}, {255, 252, 230}, {255, 249, 210}, {71, 54, 0}, {163, 149, 44}, {243, 228, 83}, {251, 238, 63}, {255, 245, 49}, {242, 231, 27}, {251, 240, 36}, {244, 234, 38}, {255, 243, 63}, {247, 235, 75}, {223, 207, 68}, {156, 145, 30}, {67, 61, 0}, {228, 226, 169}, {248, 245, 210}, {238, 239, 223}, {253, 255, 252}}, {{255, 240, 255}, {255, 237, 240}, {183, 163, 126}, {170, 152, 76}, {165, 148, 34}, {255, 247, 94}, {247, 232, 41}, {253, 238, 23}, {251, 235, 17}, {250, 231, 15}, {253, 235, 27}, {248, 232, 25}, {255, 249, 39}, {247, 234, 34}, {253, 236, 62}, {255, 242, 94}, {166, 160, 40}, {128, 127, 37}, {189, 187, 128}, {255, 255, 227}, {255, 255, 246}}, {{255, 239, 255}, {255, 237, 230}, {109, 92, 20}, {226, 214, 92}, {245, 235, 78}, {243, 232, 46}, {244, 232, 24}, {253, 239, 20}, {255, 241, 17}, {255, 239, 15}, {255, 241, 21}, {247, 231, 11}, {249, 236, 8}, {255, 243, 25}, {255, 241, 50}, {231, 218, 51}, {240, 234, 84}, {243, 241, 120}, {72, 67, 0}, {231, 227, 179}, {236, 231, 212}}, {{255, 243, 238}, {173, 165, 118}, {184, 183, 56}, {230, 233, 54}, {234, 237, 36}, {239, 236, 33}, {252, 243, 52}, {248, 235, 43}, {247, 235, 25}, {249, 240, 15}, {255, 248, 10}, {254, 249, 10}, {233, 229, 0}, {240, 235, 21}, {249, 241, 54}, {249, 242, 66}, {235, 232, 55}, {243, 240, 85}, {181, 177, 69}, {160, 155, 87}, {255, 255, 225}}, {{241, 233, 210}, {114, 111, 42}, {178, 186, 23}, {231, 244, 30}, {232, 241, 14}, {252, 254, 46}, {158, 146, 0}, {161, 147, 0}, {196, 185, 0}, {240, 234, 18}, {246, 244, 3}, {242, 241, 3}, {199, 195, 0}, {153, 148, 0}, {158, 153, 0}, {241, 236, 56}, {248, 245, 46}, {232, 230, 49}, {199, 192, 60}, {110, 102, 17}, {251, 242, 199}}, {{229, 222, 196}, {105, 103, 28}, {221, 234, 59}, {233, 248, 21}, {232, 242, 6}, {255, 255, 54}, {88, 73, 0}, {69, 48, 0}, {147, 131, 0}, {239, 229, 33}, {245, 241, 10}, {244, 240, 21}, {150, 140, 0}, {54, 43, 0}, {102, 96, 0}, {247, 243, 58}, {251, 248, 33}, {242, 239, 36}, {226, 219, 69}, {117, 109, 8}, {246, 237, 180}}, {{242, 232, 196}, {131, 126, 42}, {223, 232, 51}, {234, 246, 12}, {241, 249, 6}, {229, 228, 16}, {119, 102, 0}, {110, 89, 0}, {247, 227, 66}, {255, 242, 47}, {234, 226, 5}, {242, 234, 25}, {252, 237, 82}, {119, 106, 0}, {104, 97, 0}, {243, 239, 46}, {238, 235, 10}, {253, 248, 34}, {242, 234, 73}, {131, 123, 12}, {231, 222, 157}}, {{233, 218, 161}, {118, 109, 8}, {238, 239, 50}, {251, 255, 18}, {240, 240, 0}, {255, 255, 22}, {242, 226, 27}, {255, 236, 48}, {253, 231, 32}, {254, 234, 25}, {255, 250, 36}, {239, 225, 15}, {253, 238, 47}, {250, 236, 51}, {250, 240, 47}, {252, 244, 37}, {247, 240, 10}, {248, 242, 26}, {255, 250, 84}, {129, 120, 3}, {247, 239, 167}}, {{249, 232, 163}, {135, 122, 17}, {244, 239, 59}, {246, 243, 24}, {238, 231, 5}, {255, 246, 22}, {253, 237, 19}, {255, 236, 19}, {255, 238, 22}, {255, 234, 19}, {247, 225, 17}, {251, 234, 24}, {254, 239, 24}, {249, 237, 27}, {234, 220, 27}, {240, 228, 30}, {254, 244, 22}, {238, 231, 19}, {242, 233, 70}, {121, 112, 0}, {238, 230, 157}}, {{234, 216, 142}, {125, 110, 9}, {249, 240, 85}, {235, 226, 47}, {255, 241, 64}, {220, 202, 18}, {236, 218, 14}, {255, 237, 23}, {255, 235, 19}, {255, 240, 25}, {254, 232, 25}, {255, 240, 28}, {243, 230, 1}, {245, 234, 20}, {255, 246, 81}, {225, 207, 45}, {235, 222, 20}, {244, 235, 36}, {239, 228, 74}, {139, 129, 16}, {233, 227, 153}}, {{239, 224, 157}, {136, 123, 31}, {246, 239, 99}, {247, 239, 76}, {191, 178, 14}, {85, 68, 0}, {235, 216, 38}, {255, 240, 50}, {254, 235, 35}, {242, 224, 16}, {255, 241, 31}, {253, 239, 28}, {255, 251, 37}, {239, 229, 35}, {222, 207, 56}, {62, 45, 0}, {219, 205, 18}, {242, 231, 45}, {248, 236, 92}, {118, 107, 1}, {240, 233, 161}}, {{248, 237, 191}, {44, 37, 0}, {194, 195, 59}, {232, 234, 62}, {228, 227, 41}, {225, 218, 42}, {120, 104, 0}, {105, 87, 0}, {255, 239, 68}, {243, 231, 35}, {240, 234, 18}, {242, 238, 29}, {251, 243, 70}, {109, 100, 0}, {114, 107, 0}, {207, 199, 39}, {227, 215, 35}, {235, 222, 48}, {214, 202, 66}, {101, 92, 0}, {234, 227, 159}}, {{255, 250, 223}, {201, 196, 140}, {155, 156, 39}, {237, 242, 80}, {243, 248, 57}, {241, 240, 52}, {108, 97, 0}, {119, 104, 0}, {215, 201, 43}, {214, 203, 27}, {217, 211, 15}, {218, 213, 25}, {206, 197, 42}, {105, 97, 0}, {109, 106, 0}, {244, 241, 74}, {241, 231, 71}, {248, 237, 95}, {169, 159, 46}, {168, 160, 75}, {255, 251, 193}}, {{255, 252, 246}, {255, 253, 222}, {101, 96, 15}, {181, 183, 50}, {229, 235, 51}, {231, 235, 27}, {253, 252, 50}, {233, 225, 38}, {141, 128, 0}, {122, 107, 0}, {117, 101, 0}, {104, 89, 0}, {137, 125, 0}, {231, 223, 50}, {249, 244, 54}, {232, 231, 55}, {234, 230, 105}, {237, 234, 141}, {82, 80, 3}, {249, 247, 186}, {240, 237, 192}}, {{255, 246, 250}, {245, 237, 224}, {245, 238, 194}, {54, 50, 0}, {235, 237, 94}, {250, 253, 76}, {234, 235, 43}, {232, 228, 43}, {238, 227, 73}, {219, 203, 66}, {233, 215, 87}, {247, 231, 94}, {242, 229, 71}, {230, 222, 49}, {243, 236, 57}, {246, 243, 88}, {207, 207, 111}, {77, 77, 15}, {219, 219, 165}, {248, 247, 203}, {255, 255, 225}}, {{241, 237, 236}, {255, 255, 250}, {255, 254, 244}, {238, 231, 202}, {73, 68, 4}, {134, 129, 35}, {225, 220, 100}, {251, 244, 111}, {234, 226, 93}, {244, 234, 100}, {242, 233, 94}, {229, 221, 76}, {243, 236, 86}, {251, 245, 99}, {227, 218, 89}, {136, 129, 23}, {76, 74, 0}, {255, 255, 208}, {255, 255, 216}, {252, 249, 214}, {231, 227, 202}}, {{254, 255, 250}, {245, 247, 244}, {241, 238, 245}, {255, 253, 255}, {227, 220, 202}, {138, 131, 89}, {144, 136, 64}, {124, 117, 26}, {148, 141, 37}, {136, 129, 13}, {147, 141, 17}, {163, 158, 30}, {139, 133, 11}, {136, 129, 23}, {148, 136, 60}, {166, 157, 98}, {234, 231, 180}, {243, 241, 200}, {255, 254, 221}, {255, 255, 230}, {255, 255, 239}}, {{247, 255, 239}, {242, 252, 241}, {242, 245, 250}, {253, 252, 255}, {255, 254, 251}, {255, 254, 234}, {233, 226, 182}, {204, 198, 138}, {46, 39, 0}, {44, 37, 0}, {39, 33, 0}, {36, 32, 0}, {54, 48, 0}, {202, 195, 140}, {230, 218, 194}, {252, 240, 226}, {251, 245, 219}, {255, 255, 228}, {245, 240, 218}, {255, 255, 241}, {255, 254, 248}}}'"
            ],
            "application/vnd.google.colaboratory.intrinsic+json": {
              "type": "string"
            }
          },
          "metadata": {},
          "execution_count": 13
        }
      ]
    }
  ]
}